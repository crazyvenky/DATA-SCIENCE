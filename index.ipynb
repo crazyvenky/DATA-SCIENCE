{
  "nbformat": 4,
  "nbformat_minor": 0,
  "metadata": {
    "colab": {
      "provenance": [],
      "authorship_tag": "ABX9TyO87t2lcI4aBConWAxsJJgv",
      "include_colab_link": true
    },
    "kernelspec": {
      "name": "python3",
      "display_name": "Python 3"
    },
    "language_info": {
      "name": "python"
    }
  },
  "cells": [
    {
      "cell_type": "markdown",
      "metadata": {
        "id": "view-in-github",
        "colab_type": "text"
      },
      "source": [
        "<a href=\"https://colab.research.google.com/github/crazyvenky/DATA-SCIENCE/blob/main/index.ipynb\" target=\"_parent\"><img src=\"https://colab.research.google.com/assets/colab-badge.svg\" alt=\"Open In Colab\"/></a>"
      ]
    },
    {
      "cell_type": "code",
      "execution_count": null,
      "metadata": {
        "id": "zNaD6bKazFJO"
      },
      "outputs": [],
      "source": []
    },
    {
      "cell_type": "markdown",
      "source": [
        "# **DATA SCIENCE INDEX PAGE**\n",
        "\n",
        "\n",
        "1. **What is Data Science?**\n",
        "\n",
        "2. **Tools for Data Science**\n",
        "\n",
        "3. **Data Science Methodology**\n",
        "\n",
        "4. **Python for Data Science, AI & Development**\n",
        "\n",
        "5. **Python Project for Data Science**\n",
        "\n",
        "6. **Databases and SQL for Data Science with Python**\n",
        "\n",
        "7. **Data Analysis with Python**\n",
        "\n",
        "8. **Data Visualization with Python**\n",
        "\n",
        "9. **Machine Learning with Python**\n",
        "\n",
        "10. **Applied Data Science Capstone**\n",
        "\n"
      ],
      "metadata": {
        "id": "sc37BMahza1g"
      }
    }
  ]
}