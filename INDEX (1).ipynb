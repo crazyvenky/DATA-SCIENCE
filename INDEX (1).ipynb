{
 "cells": [
  {
   "cell_type": "markdown",
   "id": "72d72c19",
   "metadata": {},
   "source": [
    "<a id=\"TOP\"></a>\n",
    "\n",
    "<div style=\"background-color: LightGoldenRodYellow; padding: 10px;border-radius: 30px; border: 5px solid black; padding: 20px;\">\n",
    "<h1>DATA SCIENCE INDEX PAGE</h1>\n",
    "<a style=\"text-decoration:none;\" href=\"#COURSE1\"><h2>1. What is Data Science?</h2></a>\n",
    "<a style=\"text-decoration:none;\" href=\"#COURSE2\"><h2>2. Tools for Data Science</h2></a>\n",
    "<a style=\"text-decoration:none;\" href=\"#COURSE3\"><h2>3. Data Science Methodology</h2></a>\n",
    "<a style=\"text-decoration:none;\" href=\"#COURSE4\"><h2>4. Python for Data Science</h2></a>\n",
    "<a style=\"text-decoration:none;\" href=\"#COURSE5\"><h2>5. Python Project for Data Science</h2></a>\n",
    "<a style=\"text-decoration:none;\" href=\"#COURSE6\"><h2>6. Databases and SQL for Data Science with Python</h2></a>\n",
    "<a style=\"text-decoration:none;\" href=\"#COURSE7\"><h2>7. Data Analysis with Python</h2></a>\n",
    "<a style=\"text-decoration:none;\" href=\"#COURSE8\"><h2>8. Data Visualization with Python</h2></a>\n",
    "<a style=\"text-decoration:none;\" href=\"#COURSE9\"><h2>9. Machine Learning with Python</h2></a>\n",
    "<a style=\"text-decoration:none;\" href=\"#COURSE10\"><h2>10. Applied Data Science Capstone</h2></a>\n",
    "</div>"
   ]
  },
  {
   "cell_type": "markdown",
   "id": "17f449b7",
   "metadata": {},
   "source": [
    " <a id=\"COURSE1\"></a>\n",
    "\n",
    "<div style=\"background-color: PaleGoldenRod; padding: 10px;border-radius: 30px; border: 5px solid black; padding: 20px;\">\n",
    "<h2>WHAT IS DATA SCIENCE?</h2>\n",
    "<a style=\"text-decoration:none;\" href=\"#C1_MODULE1\"><h3>1. Defining Data Science And What Data Scientists Do?</h3></a>\n",
    "<a style=\"text-decoration:none;\" href=\"#C1_MODULE2\"><h3>2. Data Science Topics</h3></a>\n",
    "<a style=\"text-decoration:none;\" href=\"#C1_MODULE3\"><h3>3. Applications and Careers in Data Science</h3></a>\n",
    "<a style=\"text-decoration:none;\" href=\"#C1_MODULE3\"><h3>4. </h3></a>   \n",
    "</div>"
   ]
  },
  {
   "cell_type": "markdown",
   "id": "44830221",
   "metadata": {},
   "source": [
    " <a id=\"COURSE2\"></a>\n",
    " \n",
    "<div style=\"background-color: PaleGoldenRod; padding: 10px;border-radius: 30px; border: 5px solid black; padding: 20px;\">\n",
    "<h2>TOOLS FOR DATA SCIENCE</h2>\n",
    "<a style=\"text-decoration:none;\" href=\"#C2_MODULE1\"><h3>1. Overview of Data Science Tools</h3></a>\n",
    "<a style=\"text-decoration:none;\" href=\"#C2_MODULE2\"><h3>2. Language of Data Science</h3></a>\n",
    "<a style=\"text-decoration:none;\" href=\"#C2_MODULE3\"><h3>3. Packages, APIs, Data Sets, and Models</h3></a>\n",
    "<a style=\"text-decoration:none;\" href=\"#C2_MODULE1\"><h3>4. Jupyter Notebooks and JupyterLab</h3></a>\n",
    "<a style=\"text-decoration:none;\" href=\"#C2_MODULE2\"><h3>5. RStudio & GitHub</h3></a>\n",
    "<a style=\"text-decoration:none;\" href=\"#C2_MODULE3\"><h3>6. Create and Share your Hupyter Notebook</h3></a>\n",
    "<a style=\"text-decoration:none;\" href=\"#C2_MODULE1\"><h3>7. [Optional]IBM Watson Studio</h3></a>\n",
    "</div>"
   ]
  },
  {
   "cell_type": "markdown",
   "id": "71f62da9",
   "metadata": {},
   "source": [
    " <a id=\"COURSE3\"></a>\n",
    " \n",
    " <div style=\"background-color: PaleGoldenRod; padding: 10px;border-radius: 30px; border: 5px solid black; padding: 20px;\">\n",
    "<h2>DATA SCIENCE METHODOLOGY</h2>\n",
    "<a style=\"text-decoration:none;\" href=\"#C3_MODULE1\"><h3>1. From Problem to Approach and From Requirements to Collection</h3></a>\n",
    "<a style=\"text-decoration:none;\" href=\"#C3_MODULE2\"><h3>2. From Understanding to Preparation and From Modeling to Evaluation</h3></a>\n",
    "<a style=\"text-decoration:none;\" href=\"#C3_MODULE3\"><h3>3. From Deployment to Feedback and Final Evaluation</h3></a>\n",
    "<a style=\"text-decoration:none;\" href=\"#C3_MODULE1\"><h3>4. Final Project and Assessment</h3></a>\n",
    "</div>"
   ]
  },
  {
   "cell_type": "markdown",
   "id": "b07677b4",
   "metadata": {},
   "source": [
    " <a id=\"COURSE4\"></a>\n",
    " \n",
    " <div style=\"background-color: PaleGoldenRod; padding: 10px;border-radius: 30px; border: 5px solid black; padding: 20px;\">\n",
    "<h2>PYTHON FOR DATA SCIENCE</h2>\n",
    "<a style=\"text-decoration:none;\" href=\"#C4_MODULE1\"><h3>1. Basics</h3></a>\n",
    "<a style=\"text-decoration:none;\" href=\"#C4_MODULE2\"><h3>2. Data Structures</h3></a>\n",
    "<a style=\"text-decoration:none;\" href=\"#C4_MODULE3\"><h3>3. Programming Fundamentals</h3></a>\n",
    "<a style=\"text-decoration:none;\" href=\"#C4_MODULE1\"><h3>4. Working with Data</h3></a>\n",
    "<a style=\"text-decoration:none;\" href=\"#C4_MODULE2\"><h3>5. APIs and Data Collection</h3></a>\n",
    "</div>"
   ]
  },
  {
   "cell_type": "markdown",
   "id": "78399746",
   "metadata": {},
   "source": [
    " <a id=\"COURSE5\"></a>\n",
    " \n",
    " <div style=\"background-color: PaleGoldenRod; padding: 10px;border-radius: 30px; border: 5px solid black; padding: 20px;\">\n",
    "<h2>PYTHON PROJECT FOR DATA SCIENCE</h2>\n",
    "<a style=\"text-decoration:none;\" href=\"#C5_MODULE1\"><h3>1. Crowdsourcing Short squeeze Dashboard</h3></a>\n",
    "<a style=\"text-decoration:none;\" href=\"#C5_MODULE2\"><h3> </h3></a>\n",
    "</div>"
   ]
  },
  {
   "cell_type": "markdown",
   "id": "1fecf49d",
   "metadata": {},
   "source": [
    " <a id=\"COURSE6\"></a>\n",
    " \n",
    " <div style=\"background-color: PaleGoldenRod; padding: 10px;border-radius: 30px; border: 5px solid black; padding: 20px;\">\n",
    "<h2>DATABASES AND SQL FOR DATA SCIENCE WITH PYTHON</h2>\n",
    "<a style=\"text-decoration:none;\" href=\"#C6_MODULE1\"><h3>1. Getting Started with SQL</h3></a>\n",
    "<a style=\"text-decoration:none;\" href=\"#C6_MODULE2\"><h3>2. Introduction to Relational Databases and Tables</h3></a>\n",
    "<a style=\"text-decoration:none;\" href=\"#C6_MODULE3\"><h3>3. Intermediate SQL</h3></a>\n",
    "<a style=\"text-decoration:none;\" href=\"#C6_MODULE1\"><h3>4. Accessing Databases using Python</h3></a>\n",
    "<a style=\"text-decoration:none;\" href=\"#C6_MODULE2\"><h3>5. Course Assignment</h3></a>\n",
    "<a style=\"text-decoration:none;\" href=\"#C6_MODULE3\"><h3>6. Bonus Module:Advanced SQL for Data Engineering (Honors)</h3></a>\n",
    "</div>"
   ]
  },
  {
   "cell_type": "markdown",
   "id": "8f659153",
   "metadata": {},
   "source": [
    " <a id=\"COURSE7\"></a>\n",
    " \n",
    " <div style=\"background-color: PaleGoldenRod; padding: 10px;border-radius: 30px; border: 5px solid black; padding: 20px;\">\n",
    "<h2>DATA ANALYSIS WITH PYTHON</h2>\n",
    "<a style=\"text-decoration:none;\" href=\"#C7_MODULE1\"><h3>1. Importing Data Sets</h3></a>\n",
    "<a style=\"text-decoration:none;\" href=\"#C7_MODULE2\"><h3>2. Data Wrangling</h3></a>\n",
    "<a style=\"text-decoration:none;\" href=\"#C7_MODULE3\"><h3>3. Exploratory Data Analysis</h3></a>\n",
    "<a style=\"text-decoration:none;\" href=\"#C7_MODULE1\"><h3>4. Model Development</h3></a>\n",
    "<a style=\"text-decoration:none;\" href=\"#C7_MODULE2\"><h3>5. Model Evaluation and Refinement</h3></a>\n",
    "<a style=\"text-decoration:none;\" href=\"#C7_MODULE3\"><h3>6. Final Assignment</h3></a>\n",
    "</div>"
   ]
  },
  {
   "cell_type": "markdown",
   "id": "f6fe87e4",
   "metadata": {},
   "source": [
    " <a id=\"COURSE8\"></a>\n",
    " \n",
    " <div style=\"background-color: PaleGoldenRod; padding: 10px;border-radius: 30px; border: 5px solid black; padding: 20px;\">\n",
    "<h2>DATA VISUALIZATION WITH PYTHON</h2>\n",
    "<a style=\"text-decoration:none;\" href=\"#C8_MODULE1\"><h3>1. Introduction to Data Visualization Tools</h3></a>\n",
    "<a style=\"text-decoration:none;\" href=\"#C8_MODULE2\"><h3>2. Basic and Specialized Visualization Tools</h3></a>\n",
    "<a style=\"text-decoration:none;\" href=\"#C8_MODULE3\"><h3>3. Advanced Visualizattion and Geospatial Data</h3></a>\n",
    "<a style=\"text-decoration:none;\" href=\"#C8_MODULE1\"><h3>4. Creating Dashboards with Ploty and Dash</h3></a>\n",
    "<a style=\"text-decoration:none;\" href=\"#C8_MODULE2\"><h3>5. Final project and Exam</h3></a>\n",
    "</div>"
   ]
  },
  {
   "cell_type": "markdown",
   "id": "7ea9fe0a",
   "metadata": {},
   "source": [
    " <a id=\"COURSE9\"></a>\n",
    " \n",
    " <div style=\"background-color: PaleGoldenRod; padding: 10px;border-radius: 30px; border: 5px solid black; padding: 20px;\">\n",
    "<h2>MACHINE LEARNING WITH PYTHON</h2>\n",
    "<a style=\"text-decoration:none;\" href=\"#C9_MODULE1\"><h3>1. Introduction to Machine Learning</h3></a>\n",
    "<a style=\"text-decoration:none;\" href=\"#C9_MODULE2\"><h3>2. Regression</h3></a>\n",
    "<a style=\"text-decoration:none;\" href=\"#C9_MODULE3\"><h3>3. Classification</h3></a>\n",
    "<a style=\"text-decoration:none;\" href=\"#C9_MODULE1\"><h3>4. Linear Classification</h3></a>\n",
    "<a style=\"text-decoration:none;\" href=\"#C9_MODULE2\"><h3>5. Clustering</h3></a>\n",
    "<a style=\"text-decoration:none;\" href=\"#C9_MODULE3\"><h3>6. Final Exam and Project</h3></a>\n",
    "</div>"
   ]
  },
  {
   "cell_type": "markdown",
   "id": "49055e85",
   "metadata": {},
   "source": [
    " <a id=\"COURSE10\"></a>\n",
    " \n",
    " <div style=\"background-color: PaleGoldenRod; padding: 10px;border-radius: 30px; border: 5px solid black; padding: 20px;\">\n",
    "<h2>APPLIED DATA SCIENCE CAPSTONE</h2>\n",
    "<a style=\"text-decoration:none;\" href=\"#C10_MODULE1\"><h3>1. Introduction</h3></a>\n",
    "<a style=\"text-decoration:none;\" href=\"#C10_MODULE2\"><h3>2. Exploratory Data Analysis(EDA)</h3></a>\n",
    "<a style=\"text-decoration:none;\" href=\"#C10_MODULE3\"><h3>3. Interactive Visual Analytics and Dashboard</h3></a>\n",
    "<a style=\"text-decoration:none;\" href=\"#C10_MODULE1\"><h3>4. Predictive Analysis(Classification)</h3></a>\n",
    "<a style=\"text-decoration:none;\" href=\"#C10_MODULE2\"><h3>5. Present Your Data-Driven Insights</h3></a>\n",
    "</div>"
   ]
  },
  {
   "cell_type": "markdown",
   "id": "dedc9ada",
   "metadata": {},
   "source": [
    "<button style=\"background-color: black;border-radius:50%;padding:20px;\"><a style=\"text-decoration:none;color:white;\" href=\"#TOP\">BACK TO TOP</a></button>\n"
   ]
  }
 ],
 "metadata": {
  "kernelspec": {
   "display_name": "Python 3 (ipykernel)",
   "language": "python",
   "name": "python3"
  },
  "language_info": {
   "codemirror_mode": {
    "name": "ipython",
    "version": 3
   },
   "file_extension": ".py",
   "mimetype": "text/x-python",
   "name": "python",
   "nbconvert_exporter": "python",
   "pygments_lexer": "ipython3",
   "version": "3.9.12"
  }
 },
 "nbformat": 4,
 "nbformat_minor": 5
}
